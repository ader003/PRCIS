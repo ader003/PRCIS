{
 "cells": [
  {
   "cell_type": "code",
   "execution_count": 1,
   "metadata": {},
   "outputs": [],
   "source": [
    "import numpy as np\n",
    "from sklearn.linear_model import RidgeClassifierCV\n",
    "from sktime.transformations.panel.rocket import Rocket\n",
    "from tqdm import tqdm\n",
    "from scipy.io import loadmat\n",
    "from scipy.stats import zscore\n",
    "import matplotlib.pyplot as plt"
   ]
  },
  {
   "cell_type": "code",
   "execution_count": 2,
   "metadata": {},
   "outputs": [
    {
     "name": "stdout",
     "output_type": "stream",
     "text": [
      "FINISHED PROCESSING DATA\n"
     ]
    }
   ],
   "source": [
    "SENSOR = 1\n",
    "activitymap = {1: \"Walking Forward\", 2: \"Walking Left\", 3: \"Walking Right\", 4: \"Walking Upstairs\", 5: \"Walking Downstairs\", 6: \"Running Forward\", 7: \"Jumping Up\", 8: \"Sitting\", 9: \"Standing\", 10: \"Sleeping\", 11: \"Elevator Up\", 12: \"Elevator Down\"}\n",
    "omitactivities=[\"a8t\",\"a9t\",\"a10\"]\n",
    "main_dir = 'USC-HAD/'\n",
    "i = 0\n",
    "dataset = []\n",
    "labels = []\n",
    "lens = []\n",
    "for (root,dirs,files) in os.walk(main_dir):\n",
    "    for d in dirs:\n",
    "        for (subj_root,subj_dirs,subj_files) in os.walk(root+d):\n",
    "            for f in subj_files:\n",
    "                if f[:3] not in omitactivities:\n",
    "                    filedata = loadmat(main_dir+d+\"/\"+f)\n",
    "                    filedata = np.asarray(filedata['sensor_readings'])\n",
    "                    filedata = filedata[:,SENSOR] \n",
    "                    filedata = np.transpose(filedata) \n",
    "                    label = f[1:-6] \n",
    "                    lens.append(len(filedata))\n",
    "                    dataset.append(zscore(filedata, nan_policy='omit', axis=0))\n",
    "                    labels.append(label)\n",
    "print(\"FINISHED PROCESSING DATA\")"
   ]
  },
  {
   "cell_type": "code",
   "execution_count": 3,
   "metadata": {},
   "outputs": [
    {
     "data": {
      "image/png": "[encoded data removed]",
      "text/plain": [
       "<Figure size 500x200 with 1 Axes>"
      ]
     },
     "metadata": {},
     "output_type": "display_data"
    }
   ],
   "source": [
    "values, counts = np.unique(lens,return_counts=True)   \n",
    "fig = plt.figure(figsize=(5,2))\n",
    "plt.hist(lens, bins=5)\n",
    "plt.show()\n",
    "\n",
    "longest_len = max(lens)\n",
    "padtype = \"self\" # also \"self\"\n",
    "for ts_idx in range(len(dataset)):\n",
    "    ts = dataset[ts_idx]\n",
    "    if padtype == \"zero\":\n",
    "        dataset[ts_idx] = np.pad(ts,(0,longest_len-len(ts)),mode='constant')\n",
    "    elif padtype == \"self\":\n",
    "        dataset[ts_idx] = np.pad(ts,(0,longest_len-len(ts)),mode='wrap')\n"
   ]
  },
  {
   "cell_type": "code",
   "execution_count": 4,
   "metadata": {},
   "outputs": [
    {
     "name": "stderr",
     "output_type": "stream",
     "text": [
      "100%|██████████| 630/630 [1:54:46<00:00, 10.93s/it]  "
     ]
    },
    {
     "name": "stdout",
     "output_type": "stream",
     "text": [
      "0.0\n"
     ]
    },
    {
     "name": "stderr",
     "output_type": "stream",
     "text": [
      "\n"
     ]
    }
   ],
   "source": [
    "rocket_labels_MAIN = np.asarray(labels)\n",
    "rocket_dataset_MAIN = np.stack(dataset,axis=0)\n",
    "rocket_dataset_MAIN = np.expand_dims(rocket_dataset_MAIN,axis=2)\n",
    "\n",
    "scores = []\n",
    "for i in tqdm(range(len(rocket_labels_MAIN))): # LOO\n",
    "    X_train, X_test = np.delete(rocket_dataset_MAIN,i,axis=0), rocket_dataset_MAIN[i]\n",
    "    X_test = np.expand_dims(X_test,axis=0)\n",
    "    y_train, y_test = np.delete(rocket_labels_MAIN,i), rocket_labels_MAIN[i]\n",
    "\n",
    "    X_test = np.concatenate((X_test, X_test)) # due to sktime implementation, it requires X_test to have more than one datapoint\n",
    "    y_test = np.expand_dims(y_test,axis=0)\n",
    "    y_test = np.concatenate((y_test,y_test))\n",
    "    y_test = np.expand_dims(y_test,axis=1) # again\n",
    "    \n",
    "    rocket = Rocket()  # by default, ROCKET uses 10,000 kernels\n",
    "    rocket.fit(X_train)\n",
    "    X_train_transform = rocket.transform(X_train)\n",
    "    classifier = RidgeClassifierCV(alphas=np.logspace(-3,3,10), normalize=False) # normalized already\n",
    "    classifier.fit(X_train_transform, y_train)\n",
    "\n",
    "    X_test_transform = rocket.transform(X_test)\n",
    "    scores.append(classifier.score(X_test_transform, y_test))\n",
    "print(np.mean(scores))"
   ]
  },
  {
   "cell_type": "code",
   "execution_count": null,
   "metadata": {},
   "outputs": [],
   "source": []
  }
 ],
 "metadata": {
  "interpreter": {
   "hash": "95579feb85bf48d92713992f6775a5f71ceee242a4710a815140659d84c770eb"
  },
  "kernelspec": {
   "display_name": "Python 3.7.11 ('mpy')",
   "language": "python",
   "name": "python3"
  },
  "language_info": {
   "codemirror_mode": {
    "name": "ipython",
    "version": 3
   },
   "file_extension": ".py",
   "mimetype": "text/x-python",
   "name": "python",
   "nbconvert_exporter": "python",
   "pygments_lexer": "ipython3",
   "version": "3.7.11"
  },
  "orig_nbformat": 4
 },
 "nbformat": 4,
 "nbformat_minor": 2
}
